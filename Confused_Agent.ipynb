{
 "cells": [
  {
   "cell_type": "code",
   "execution_count": null,
   "metadata": {},
   "outputs": [],
   "source": [
    "%run Imports.ipynb\n",
    "%run Discrete_Agent.ipynb"
   ]
  },
  {
   "cell_type": "code",
   "execution_count": null,
   "metadata": {},
   "outputs": [],
   "source": [
    "class ConfusedAgent(DiscreteAgent):\n",
    "    \n",
    "    def __init__(self, env):\n",
    "        self.env = env\n",
    "        self.sweep_no = 0\n",
    "        self.is_converged = False\n",
    "        self.values = {}\n",
    "        self.policy = {}\n",
    "        \n",
    "        for state in self.env.states:\n",
    "            self.values[state] = 0\n",
    "            actions_list = self.env.actions[state]\n",
    "            self.policy[state] = random.choice(actions_list)\n",
    "        \n",
    "    def update(self):\n",
    "        self.sweep_no += 1\n",
    "#         for state in self.env.states:\n",
    "#             actions_list = self.env.actions[state]\n",
    "#             self.policy[state] = random.choice(actions_list)\n",
    "        return self.sweep_no, self.is_converged, self.values, self.policy\n",
    "        \n",
    "    def get_action(self, state):\n",
    "         # action = self.policy[state]\n",
    "         # return action\n",
    "        actions_list = self.env.actions[state]\n",
    "        return random.choice(actions_list)"
   ]
  }
 ],
 "metadata": {
  "kernelspec": {
   "display_name": "Python 3",
   "language": "python",
   "name": "python3"
  },
  "language_info": {
   "codemirror_mode": {
    "name": "ipython",
    "version": 3
   },
   "file_extension": ".py",
   "mimetype": "text/x-python",
   "name": "python",
   "nbconvert_exporter": "python",
   "pygments_lexer": "ipython3",
   "version": "3.5.2"
  }
 },
 "nbformat": 4,
 "nbformat_minor": 2
}
